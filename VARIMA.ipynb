{
  "nbformat": 4,
  "nbformat_minor": 0,
  "metadata": {
    "colab": {
      "provenance": [],
      "authorship_tag": "ABX9TyMNhL4Fb/FD7lgJbWXa6/P7",
      "include_colab_link": true
    },
    "kernelspec": {
      "name": "python3",
      "display_name": "Python 3"
    },
    "language_info": {
      "name": "python"
    }
  },
  "cells": [
    {
      "cell_type": "markdown",
      "metadata": {
        "id": "view-in-github",
        "colab_type": "text"
      },
      "source": [
        "<a href=\"https://colab.research.google.com/github/markuskunej/air-pollution-thesis/blob/master/VARIMA.ipynb\" target=\"_parent\"><img src=\"https://colab.research.google.com/assets/colab-badge.svg\" alt=\"Open In Colab\"/></a>"
      ]
    },
    {
      "cell_type": "code",
      "execution_count": 11,
      "metadata": {
        "id": "UfY8pW_uHWaM",
        "outputId": "6d25ce0a-2602-413c-caa8-5ef8825fb22b",
        "colab": {
          "base_uri": "https://localhost:8080/"
        }
      },
      "outputs": [
        {
          "output_type": "stream",
          "name": "stdout",
          "text": [
            "Archive:  /content/Y&E_60m_last40days.zip\n",
            "  inflating: Y&E_60m_last40days/AQI.csv  \n",
            "  inflating: Y&E_60m_last40days/CO.csv  \n",
            "  inflating: Y&E_60m_last40days/CO2.csv  \n",
            "  inflating: Y&E_60m_last40days/Elevation.csv  \n",
            "  inflating: Y&E_60m_last40days/Humidity.csv  \n",
            "  inflating: Y&E_60m_last40days/Latitude.csv  \n",
            "  inflating: Y&E_60m_last40days/Longitude.csv  \n",
            "  inflating: Y&E_60m_last40days/NO.csv  \n",
            "  inflating: Y&E_60m_last40days/NO2.csv  \n",
            "  inflating: Y&E_60m_last40days/Noise_LEQ.csv  \n",
            "  inflating: Y&E_60m_last40days/Noise_Max.csv  \n",
            "  inflating: Y&E_60m_last40days/O3.csv  \n",
            "  inflating: Y&E_60m_last40days/PM1.csv  \n",
            "  inflating: Y&E_60m_last40days/PM10.csv  \n",
            "  inflating: Y&E_60m_last40days/PM2.5.csv  \n",
            "  inflating: Y&E_60m_last40days/Pressure.csv  \n",
            "  inflating: Y&E_60m_last40days/Temperature.csv  \n",
            "  inflating: Y&E_60m_last40days/Wind_Direction.csv  \n",
            "  inflating: Y&E_60m_last40days/Wind_Gust.csv  \n",
            "  inflating: Y&E_60m_last40days/Wind_Speed.csv  \n"
          ]
        }
      ],
      "source": [
        "DATA_PATH = \"/content/Y&E_60m_last40days\"\n",
        "!unzip \"/content/Y&E_60m_last40days.zip\""
      ]
    },
    {
      "cell_type": "code",
      "source": [
        "import pandas as pd\n",
        "import os\n",
        "import glob\n",
        "\n",
        "DATA_PATH = \"/content/Y&E_60m_last40days\"\n",
        "print(os.path.join(DATA_PATH , \"/*.csv\"))\n",
        "all_files = glob.glob('/content/Y&E_60m_last40days/*.csv')\n",
        "keys = []\n",
        "dfs = []\n",
        "big_df = []\n",
        "for file_name in all_files:\n",
        "  df = pd.read_csv(file_name, parse_dates=[\"Time\"])\n",
        "  variable_name = os.path.basename(file_name).split(\".\")[0]\n",
        "  df[variable_name] = df.mean(axis=1)\n",
        "  #keys.append(variable_name)\n",
        "  #df.set_index(pd.to_datetime(df['Time'].astype(str), format='%Y-%m-%d %H:%M:%S'), inplace=True)\n",
        "  # reduce dataframe columns to only the average\n",
        "  df = df[[\"Time\", variable_name]]\n",
        "\n",
        "  print(df.index)\n",
        "  dfs.append(df)\n",
        "\n",
        "# concat dataframes into one\n",
        "big_df = pd.concat(dfs, axis=1)\n",
        "print(big_df.shape)\n",
        "print(big_df.head())"
      ],
      "metadata": {
        "id": "En995D-zR1TT",
        "outputId": "d38e3040-e6ac-4858-ad94-8e661319f0d4",
        "colab": {
          "base_uri": "https://localhost:8080/"
        }
      },
      "execution_count": 66,
      "outputs": [
        {
          "output_type": "stream",
          "name": "stdout",
          "text": [
            "/*.csv\n",
            "RangeIndex(start=0, stop=962, step=1)\n",
            "RangeIndex(start=0, stop=962, step=1)\n",
            "RangeIndex(start=0, stop=962, step=1)\n",
            "RangeIndex(start=0, stop=962, step=1)\n",
            "RangeIndex(start=0, stop=962, step=1)\n",
            "RangeIndex(start=0, stop=962, step=1)\n",
            "RangeIndex(start=0, stop=962, step=1)\n",
            "RangeIndex(start=0, stop=962, step=1)\n",
            "RangeIndex(start=0, stop=962, step=1)\n",
            "RangeIndex(start=0, stop=962, step=1)\n",
            "RangeIndex(start=0, stop=962, step=1)\n",
            "RangeIndex(start=0, stop=962, step=1)\n",
            "RangeIndex(start=0, stop=962, step=1)\n",
            "RangeIndex(start=0, stop=962, step=1)\n",
            "RangeIndex(start=0, stop=962, step=1)\n",
            "RangeIndex(start=0, stop=962, step=1)\n",
            "RangeIndex(start=0, stop=962, step=1)\n",
            "RangeIndex(start=0, stop=962, step=1)\n",
            "RangeIndex(start=0, stop=962, step=1)\n",
            "RangeIndex(start=0, stop=962, step=1)\n",
            "(962, 40)\n",
            "                 Time  Pressure                Time  Wind_Speed  \\\n",
            "0 2022-10-09 11:00:00     999.1 2022-10-09 12:00:00      1.7820   \n",
            "1 2022-10-09 12:00:00     999.4 2022-10-09 13:00:00      1.5498   \n",
            "2 2022-10-09 13:00:00     999.4 2022-10-09 14:00:00      1.3580   \n",
            "3 2022-10-09 14:00:00     999.2 2022-10-09 15:00:00      1.5116   \n",
            "4 2022-10-09 15:00:00     998.9 2022-10-09 16:00:00      0.9650   \n",
            "\n",
            "                 Time    PM2                Time  Noise_LEQ  \\\n",
            "0 2022-10-09 11:00:00  2.778 2022-10-09 11:00:00      57.88   \n",
            "1 2022-10-09 12:00:00  2.640 2022-10-09 12:00:00      58.07   \n",
            "2 2022-10-09 13:00:00  1.961 2022-10-09 13:00:00      58.45   \n",
            "3 2022-10-09 14:00:00  2.021 2022-10-09 14:00:00      58.88   \n",
            "4 2022-10-09 15:00:00  4.393 2022-10-09 15:00:00      58.46   \n",
            "\n",
            "                 Time  AQI  ...                Time     O3  \\\n",
            "0 2022-10-09 12:00:00  2.1  ... 2022-10-09 11:00:00  26.88   \n",
            "1 2022-10-09 13:00:00  2.1  ... 2022-10-09 12:00:00  26.36   \n",
            "2 2022-10-09 14:00:00  2.0  ... 2022-10-09 13:00:00  29.07   \n",
            "3 2022-10-09 15:00:00  2.0  ... 2022-10-09 14:00:00  34.44   \n",
            "4 2022-10-09 16:00:00  2.1  ... 2022-10-09 15:00:00  42.83   \n",
            "\n",
            "                 Time     NO                Time    NO2                Time  \\\n",
            "0 2022-10-09 11:00:00  14.53 2022-10-09 11:00:00  28.59 2022-10-09 11:00:00   \n",
            "1 2022-10-09 12:00:00  15.85 2022-10-09 12:00:00  22.92 2022-10-09 12:00:00   \n",
            "2 2022-10-09 13:00:00  17.85 2022-10-09 13:00:00  17.50 2022-10-09 13:00:00   \n",
            "3 2022-10-09 14:00:00  17.10 2022-10-09 14:00:00  16.67 2022-10-09 14:00:00   \n",
            "4 2022-10-09 15:00:00  13.39 2022-10-09 15:00:00  29.41 2022-10-09 15:00:00   \n",
            "\n",
            "   Elevation                Time     CO  \n",
            "0      182.0 2022-10-09 10:00:00  270.7  \n",
            "1      180.4 2022-10-09 11:00:00  253.0  \n",
            "2      182.1 2022-10-09 12:00:00  234.8  \n",
            "3      176.0 2022-10-09 13:00:00  234.0  \n",
            "4      178.5 2022-10-09 14:00:00  234.2  \n",
            "\n",
            "[5 rows x 40 columns]\n"
          ]
        },
        {
          "output_type": "stream",
          "name": "stderr",
          "text": [
            "/usr/local/lib/python3.7/dist-packages/ipykernel_launcher.py:14: FutureWarning: DataFrame.mean and DataFrame.median with numeric_only=None will include datetime64 and datetime64tz columns in a future version.\n",
            "  \n"
          ]
        }
      ]
    }
  ]
}